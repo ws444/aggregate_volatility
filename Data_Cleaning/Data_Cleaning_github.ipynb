{
 "cells": [
  {
   "cell_type": "markdown",
   "id": "2a215c17",
   "metadata": {},
   "source": [
    "# Data - Cleaning"
   ]
  },
  {
   "cell_type": "markdown",
   "id": "56b6092a",
   "metadata": {},
   "source": [
    "In this notebook we clean the data. This involves\n",
    "- Taking the raw data which comes in a payment network format (i.e. sources correspond to sources of payment flows) and transform it into a production network formalism (where sources now correspond to sources of goods being produced)\n",
    "- Removing the non-market and  industries with different input-output characteristics than national account data. This involves removing industries with the following SIC-2 codes: 45, 46, 47, 64, 65, 66 and 84 and above.\n",
    "- Merge industries that would have zero aggregate output in at least one month with closely related industries.\n"
   ]
  },
  {
   "cell_type": "markdown",
   "id": "9c6c51d7",
   "metadata": {},
   "source": [
    "## Importing Libraries"
   ]
  },
  {
   "cell_type": "code",
   "execution_count": 19,
   "id": "1a8edd7e",
   "metadata": {},
   "outputs": [],
   "source": [
    "import sys\n",
    "import os\n",
    "\n",
    "# Data Manipulation\n",
    "import pandas as pd\n",
    "import pyreadr\n",
    "import numpy as np"
   ]
  },
  {
   "cell_type": "markdown",
   "id": "5dd978a6",
   "metadata": {},
   "source": [
    "# Importing Data"
   ]
  },
  {
   "cell_type": "markdown",
   "id": "1b998552",
   "metadata": {},
   "source": [
    "The imported data is in the payment notation"
   ]
  },
  {
   "cell_type": "code",
   "execution_count": 89,
   "id": "5cb183a5",
   "metadata": {},
   "outputs": [],
   "source": [
    "### Fill in the correct data path\n",
    "data_path_1 = '/Users/jlumma/Documents/...'\n",
    "data_path_2 = '/Users/jlumma/Documents/...'\n",
    "data_path_3 = '/Users/jlumma/Documents/...'\n",
    "\n",
    "\n",
    "result_SIC5_V3_1 = pd.read_csv(data_path_1)\n",
    "result_SIC5_V3_2 = pd.read_csv(data_path_2)\n",
    "result_SIC5_V3_3 = pd.read_csv(data_path_3)\n"
   ]
  },
  {
   "cell_type": "code",
   "execution_count": 90,
   "id": "144e87cb",
   "metadata": {},
   "outputs": [],
   "source": [
    "result_SIC5_V3 = pd.concat([result_SIC5_V3_1,result_SIC5_V3_2,result_SIC5_V3_3])"
   ]
  },
  {
   "cell_type": "code",
   "execution_count": 91,
   "id": "f0f12970",
   "metadata": {},
   "outputs": [],
   "source": [
    "###### Renaming from and to columns while being in the payment formalism\n",
    "###### 'from' corresponds to source of payment flow\n",
    "###### 'to' corresponds to destination of payment flow\n",
    "result_SIC5_V3 = result_SIC5_V3.rename(columns={'source_sic_revised': \"from\",'dest_sic_revised':'to'})"
   ]
  },
  {
   "cell_type": "code",
   "execution_count": 92,
   "id": "6e24e48c",
   "metadata": {},
   "outputs": [],
   "source": [
    "result_SIC5_V3['from'] = result_SIC5_V3['from'].astype(int)\n",
    "result_SIC5_V3['to'] = result_SIC5_V3['to'].astype(int)\n",
    "\n",
    "# Some rows have '*', we will remove these.\n",
    "result_SIC5_V3 = result_SIC5_V3[result_SIC5_V3[\"jan_amt_15\"] != '*']"
   ]
  },
  {
   "cell_type": "code",
   "execution_count": 72,
   "id": "64cb2064",
   "metadata": {},
   "outputs": [],
   "source": [
    "#Let us remove the industries with leading '00'. At SIC-5 level this implies that 'from' and 'to' values \n",
    "#need to be larger than 999\n",
    "result_SIC5_V3 = result_SIC5_V3[result_SIC5_V3['from']>999]\n",
    "result_SIC5_V3 = result_SIC5_V3[result_SIC5_V3['to']>999]"
   ]
  },
  {
   "cell_type": "code",
   "execution_count": 94,
   "id": "13ae10fd",
   "metadata": {},
   "outputs": [],
   "source": [
    "result_SIC5_V3['from'] = result_SIC5_V3['from'].astype(str).str.zfill(5)\n",
    "result_SIC5_V3['to'] = result_SIC5_V3['to'].astype(str).str.zfill(5)"
   ]
  },
  {
   "cell_type": "code",
   "execution_count": 74,
   "id": "4396a987",
   "metadata": {},
   "outputs": [],
   "source": [
    "result_SIC5_V3 = result_SIC5_V3.reset_index().drop(columns = 'index')"
   ]
  },
  {
   "cell_type": "code",
   "execution_count": 75,
   "id": "b95bbb1a",
   "metadata": {},
   "outputs": [],
   "source": [
    "\n",
    "result_SIC5_V3 = result_SIC5_V3.groupby(['from', 'to']).sum().reset_index()"
   ]
  },
  {
   "cell_type": "markdown",
   "id": "6fae1f5e",
   "metadata": {},
   "source": [
    "###### Keep Amount of Transactions"
   ]
  },
  {
   "cell_type": "code",
   "execution_count": 76,
   "id": "b1189cec",
   "metadata": {},
   "outputs": [],
   "source": [
    "cols_amt = [c for c in result_SIC5_V3.columns if c[4:7] != 'cnt']\n",
    "result_SIC5_V3_amt = result_SIC5_V3[cols_amt]"
   ]
  },
  {
   "cell_type": "code",
   "execution_count": 77,
   "id": "8a1c759d",
   "metadata": {},
   "outputs": [],
   "source": [
    "# Definition of the month and amount columns\n",
    "month_columns = ['jan_amt_15', 'feb_amt_15', 'mar_amt_15', 'apr_amt_15',\n",
    "       'may_amt_15', 'jun_amt_15', 'jul_amt_15', 'aug_amt_15', 'sep_amt_15',\n",
    "       'oct_amt_15', 'nov_amt_15', 'dec_amt_15', 'jan_amt_16', 'feb_amt_16',\n",
    "       'mar_amt_16', 'apr_amt_16', 'may_amt_16', 'jun_amt_16', 'jul_amt_16',\n",
    "       'aug_amt_16', 'sep_amt_16', 'oct_amt_16', 'nov_amt_16', 'dec_amt_16',\n",
    "       'jan_amt_17', 'feb_amt_17', 'mar_amt_17', 'apr_amt_17', 'may_amt_17',\n",
    "       'jun_amt_17', 'jul_amt_17', 'aug_amt_17', 'sep_amt_17', 'oct_amt_17',\n",
    "       'nov_amt_17', 'dec_amt_17', 'jan_amt_18', 'feb_amt_18', 'mar_amt_18',\n",
    "       'apr_amt_18', 'may_amt_18', 'jun_amt_18', 'jul_amt_18', 'aug_amt_18',\n",
    "       'sep_amt_18', 'oct_amt_18', 'nov_amt_18', 'dec_amt_18', 'jan_amt_19',\n",
    "       'feb_amt_19', 'mar_amt_19', 'apr_amt_19', 'may_amt_19', 'jun_amt_19',\n",
    "       'jul_amt_19', 'aug_amt_19', 'sep_amt_19', 'oct_amt_19', 'nov_amt_19',\n",
    "       'dec_amt_19', 'jan_amt_20', 'feb_amt_20', 'mar_amt_20', 'apr_amt_20',\n",
    "       'may_amt_20', 'jun_amt_20', 'jul_amt_20', 'aug_amt_20', 'sep_amt_20',\n",
    "       'oct_amt_20', 'nov_amt_20', 'dec_amt_20', 'jan_amt_21', 'feb_amt_21',\n",
    "       'mar_amt_21', 'apr_amt_21', 'may_amt_21', 'jun_amt_21', 'jul_amt_21',\n",
    "       'aug_amt_21', 'sep_amt_21', 'oct_amt_21', 'nov_amt_21', 'dec_amt_21',\n",
    "       'jan_amt_22', 'feb_amt_22', 'mar_amt_22', 'apr_amt_22', 'may_amt_22',\n",
    "       'jun_amt_22', 'jul_amt_22']"
   ]
  },
  {
   "cell_type": "code",
   "execution_count": 78,
   "id": "e377221a",
   "metadata": {},
   "outputs": [],
   "source": [
    "result_SIC5_V3_amt.loc[:, month_columns] = result_SIC5_V3_amt[month_columns].astype(float)\n"
   ]
  },
  {
   "cell_type": "code",
   "execution_count": 79,
   "id": "dbd482ad",
   "metadata": {},
   "outputs": [],
   "source": [
    "result_SIC5_V3_amt = result_SIC5_V3_amt[(result_SIC5_V3_amt['from'] != value_to_remove) & (result_SIC5_V3_amt['to'] != value_to_remove)]\n"
   ]
  },
  {
   "cell_type": "markdown",
   "id": "b9538169",
   "metadata": {},
   "source": [
    "Let's relabel things to work in the production notation"
   ]
  },
  {
   "cell_type": "code",
   "execution_count": 80,
   "id": "cc1659fd",
   "metadata": {},
   "outputs": [],
   "source": [
    "result_SIC5_V3_amt['count'] = 1"
   ]
  },
  {
   "cell_type": "code",
   "execution_count": 81,
   "id": "d45c767b",
   "metadata": {},
   "outputs": [],
   "source": [
    "##### Moving from the payment formalism to the production network formalism.\n",
    "result_SIC5_V3_amt = result_SIC5_V3_amt.rename(columns={'from': 'to_pn', 'to': 'from_pn'})"
   ]
  },
  {
   "cell_type": "markdown",
   "id": "f80c5b1f",
   "metadata": {},
   "source": [
    "## Removing non-market industries"
   ]
  },
  {
   "attachments": {},
   "cell_type": "markdown",
   "id": "4e8b4014",
   "metadata": {},
   "source": [
    "We can alternatively also remove non-market industries as a way of cleaning the data. For that we remove Remove 45,46,47 (wholesale/retail), 64,65,66 (financial service industries), and everything above 84 onwards (non-market industries)."
   ]
  },
  {
   "cell_type": "code",
   "execution_count": 82,
   "id": "18a6f632",
   "metadata": {},
   "outputs": [],
   "source": [
    "SIC2_non_market = result_SIC5_V3_amt.copy()"
   ]
  },
  {
   "cell_type": "code",
   "execution_count": 83,
   "id": "d2e0f222",
   "metadata": {},
   "outputs": [],
   "source": [
    "##### Truncating SIC-5 codes to the two-digit level for source and origin nodes\n",
    "SIC2_non_market['to_pn_2'] = result_SIC5_V3_amt['to_pn'].astype(str).str[:2] \n",
    "SIC2_non_market['from_pn_2'] = result_SIC5_V3_amt['from_pn'].astype(str).str[:2]"
   ]
  },
  {
   "cell_type": "code",
   "execution_count": 84,
   "id": "85180136",
   "metadata": {},
   "outputs": [],
   "source": [
    "SIC2_non_market['to_pn_2'] = SIC2_non_market['to_pn_2'].astype(float)\n",
    "SIC2_non_market['from_pn_2'] = SIC2_non_market['from_pn_2'].astype(float)"
   ]
  },
  {
   "cell_type": "code",
   "execution_count": 85,
   "id": "693e8381",
   "metadata": {},
   "outputs": [],
   "source": [
    "####### Removing non-market and industries different from national account data\n",
    "SIC5_non_market = SIC2_non_market[(SIC2_non_market['to_pn_2'] != 45) &(SIC2_non_market['from_pn_2'] != 45) &\n",
    "               (SIC2_non_market['from_pn_2'] != 46) & (SIC2_non_market['to_pn_2'] != 46)&\n",
    "               (SIC2_non_market['from_pn_2'] != 47) & (SIC2_non_market['to_pn_2'] != 47) &\n",
    "               (SIC2_non_market['from_pn_2'] != 64) & (SIC2_non_market['to_pn_2'] != 64)&\n",
    "                (SIC2_non_market['from_pn_2'] != 65) & (SIC2_non_market['to_pn_2'] != 65)&\n",
    "                (SIC2_non_market['from_pn_2'] != 66) & (SIC2_non_market['to_pn_2'] != 66)&\n",
    "                (SIC2_non_market['from_pn_2'] < 84) & (SIC2_non_market['to_pn_2'] < 84)\n",
    "               ] "
   ]
  },
  {
   "cell_type": "markdown",
   "id": "307a282d",
   "metadata": {},
   "source": [
    "######  Merging industries that will have zero output"
   ]
  },
  {
   "cell_type": "markdown",
   "id": "e4b9ac0c",
   "metadata": {},
   "source": [
    "This implies merging both source- and origin- industries"
   ]
  },
  {
   "cell_type": "code",
   "execution_count": 86,
   "id": "50a35cf1",
   "metadata": {},
   "outputs": [],
   "source": [
    "##### The case below is assuming we are merging industries such that aggregate output \n",
    "##### is non-zero across all industries. Here, we do it for the source industries.\n",
    "\n",
    "SIC5_non_market.loc[:, 'from_pn'] = SIC5_non_market['from_pn'].replace({\n",
    "    '25210': '25300',\n",
    "    '33120': '33110',\n",
    "    '33130': '33110',\n",
    "    '33140': '33110',\n",
    "    '33150': '33110',\n",
    "    '33160': '33110',\n",
    "    '33170': '33110',\n",
    "    '33190': '33110',\n",
    "    '77390': '77351',\n",
    "    '74201': '74202',\n",
    "    '82999': '82990',\n",
    "    '01290': '01250',\n",
    "    '01300': '01250',\n",
    "    '01430': '01410',\n",
    "    '01450': '01410',\n",
    "    '01460': '01410',\n",
    "    '01470': '01410',\n",
    "    '01490': '01410',\n",
    "    '01629': '01621',\n",
    "    '01630': '01621',\n",
    "    '01700': '01621',\n",
    "    '10512': '10511',\n",
    "    '10519': '10511',\n",
    "    '10520': '10511',\n",
    "    '13921': '13910',\n",
    "    '13923': '13910',\n",
    "    '13931': '13910',\n",
    "    '13939': '13910',\n",
    "    '20200': '20160',\n",
    "    '23440': '23410',\n",
    "    '23490': '23410',\n",
    "    '24330': '24200'\n",
    "})\n",
    "\n",
    "\n"
   ]
  },
  {
   "cell_type": "code",
   "execution_count": 87,
   "id": "e8944526",
   "metadata": {},
   "outputs": [],
   "source": [
    "##### The case below is assuming we are merging industries such that aggregate output \n",
    "##### is non-zero across all industries. Here, we do it for the origin industries.\n",
    "\n",
    "SIC5_non_market.loc[:,'to_pn'] = SIC5_non_market['to_pn'].replace({\n",
    "        '25210': '25300',\n",
    "        '33120': '33110',\n",
    "        '33130': '33110',\n",
    "        '33140': '33110',\n",
    "        '33150': '33110',\n",
    "        '33160': '33110',\n",
    "        '33170': '33110',\n",
    "        '33190': '33110',\n",
    "        '77390': '77351',\n",
    "        '74201':'74202',\n",
    "        '82999':'82990',\n",
    "        '01290':'01250',\n",
    "        '01300':'01250',\n",
    "        '01430':'01410',\n",
    "        '01450':'01410',\n",
    "        '01460':'01410',\n",
    "        '01470':'01410',\n",
    "        '01490':'01410',\n",
    "        '01629':'01621',\n",
    "        '01630':'01621',\n",
    "        '01700':'01621',\n",
    "        '10512':'10511',\n",
    "        '10519':'10511',\n",
    "        '10520':'10511',\n",
    "        '13921':'13910',\n",
    "        '13923':'13910',\n",
    "        '13931':'13910',\n",
    "        '13939':'13910',\n",
    "        '20200':'20160',\n",
    "        '23440':'23410',\n",
    "        '23490':'23410',\n",
    "        '24330':'24200'\n",
    "    })\n",
    "    \n"
   ]
  },
  {
   "cell_type": "markdown",
   "id": "9e6820b9",
   "metadata": {},
   "source": [
    "### Saving Cleaned Data"
   ]
  },
  {
   "cell_type": "code",
   "execution_count": 38,
   "id": "0c8eafb8",
   "metadata": {},
   "outputs": [],
   "source": [
    "# Assuming df is your DataFrame\n",
    "subfolder = 'Saved_Data'\n",
    "filename = 'Cleaned_Data_SIC5_non_market_removed.csv'\n",
    "file_path = os.path.join(subfolder, filename)\n",
    "\n",
    "SIC5_non_market.drop(columns = ['count','to_pn_2','from_pn_2']).to_csv(file_path, index=False)"
   ]
  }
 ],
 "metadata": {
  "kernelspec": {
   "display_name": "Python 3 (ipykernel)",
   "language": "python",
   "name": "python3"
  },
  "language_info": {
   "codemirror_mode": {
    "name": "ipython",
    "version": 3
   },
   "file_extension": ".py",
   "mimetype": "text/x-python",
   "name": "python",
   "nbconvert_exporter": "python",
   "pygments_lexer": "ipython3",
   "version": "3.10.9"
  }
 },
 "nbformat": 4,
 "nbformat_minor": 5
}
